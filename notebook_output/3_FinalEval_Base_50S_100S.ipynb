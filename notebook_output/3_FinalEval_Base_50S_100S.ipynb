{
 "cells": [
  {
   "cell_type": "code",
   "execution_count": 1,
   "metadata": {
    "id": "3Rl--RNtQLmY"
   },
   "outputs": [
    {
     "name": "stdout",
     "output_type": "stream",
     "text": [
      "fatal: destination path 'LiveCodeBench' already exists and is not an empty directory.\r\n"
     ]
    }
   ],
   "source": [
    "!git clone https://github.com/LiveCodeBench/LiveCodeBench.git"
   ]
  },
  {
   "cell_type": "code",
   "execution_count": 6,
   "metadata": {
    "id": "c1REvBLmQ_Y1"
   },
   "outputs": [
    {
     "ename": "FileNotFoundError",
     "evalue": "[Errno 2] No such file or directory: 'LiveCodeBench'",
     "output_type": "error",
     "traceback": [
      "\u001b[0;31m---------------------------------------------------------------------------\u001b[0m",
      "\u001b[0;31mFileNotFoundError\u001b[0m                         Traceback (most recent call last)",
      "Cell \u001b[0;32mIn[6], line 2\u001b[0m\n\u001b[1;32m      1\u001b[0m \u001b[38;5;28;01mimport\u001b[39;00m \u001b[38;5;21;01mos\u001b[39;00m\n\u001b[0;32m----> 2\u001b[0m os\u001b[38;5;241m.\u001b[39mchdir(\u001b[38;5;124m'\u001b[39m\u001b[38;5;124mLiveCodeBench\u001b[39m\u001b[38;5;124m'\u001b[39m)\n",
      "\u001b[0;31mFileNotFoundError\u001b[0m: [Errno 2] No such file or directory: 'LiveCodeBench'"
     ]
    }
   ],
   "source": [
    "import os\n",
    "os.chdir('LiveCodeBench')"
   ]
  },
  {
   "cell_type": "code",
   "execution_count": 4,
   "metadata": {
    "id": "rZp6HmaWRYn0"
   },
   "outputs": [
    {
     "name": "stdout",
     "output_type": "stream",
     "text": [
      "Defaulting to user installation because normal site-packages is not writeable\n",
      "Obtaining file:///ceph/hpc/home/capodannom/LiveCodeBench\n",
      "  Installing build dependencies ... \u001b[?25ldone\n",
      "\u001b[?25h  Checking if build backend supports build_editable ... \u001b[?25ldone\n",
      "\u001b[?25h  Getting requirements to build editable ... \u001b[?25ldone\n",
      "\u001b[?25h  Preparing editable metadata (pyproject.toml) ... \u001b[?25ldone\n",
      "\u001b[?25hRequirement already satisfied: annotated-types>=0.7.0 in /ceph/hpc/home/capodannom/.local/lib/python3.11/site-packages (from livecodebench==0.1.0) (0.7.0)\n",
      "Requirement already satisfied: anthropic>=0.42.0 in /ceph/hpc/home/capodannom/.local/lib/python3.11/site-packages (from livecodebench==0.1.0) (0.50.0)\n",
      "Requirement already satisfied: cohere>=5.13.6 in /ceph/hpc/home/capodannom/.local/lib/python3.11/site-packages (from livecodebench==0.1.0) (5.15.0)\n",
      "Requirement already satisfied: datasets>=3.2.0 in /ceph/hpc/home/capodannom/.local/lib/python3.11/site-packages (from livecodebench==0.1.0) (3.5.1)\n",
      "Requirement already satisfied: google-genai>=0.6.0 in /ceph/hpc/home/capodannom/.local/lib/python3.11/site-packages (from livecodebench==0.1.0) (1.12.1)\n",
      "Requirement already satisfied: mistralai==0.4.2 in /ceph/hpc/home/capodannom/.local/lib/python3.11/site-packages (from livecodebench==0.1.0) (0.4.2)\n",
      "Requirement already satisfied: openai>=1.59.6 in /ceph/hpc/home/capodannom/.local/lib/python3.11/site-packages (from livecodebench==0.1.0) (1.76.0)\n",
      "Requirement already satisfied: pebble>=5.1.0 in /ceph/hpc/home/capodannom/.local/lib/python3.11/site-packages (from livecodebench==0.1.0) (5.1.1)\n",
      "Requirement already satisfied: torch>=2.3.0 in /ceph/hpc/home/capodannom/.local/lib/python3.11/site-packages (from livecodebench==0.1.0) (2.6.0)\n",
      "Requirement already satisfied: vllm>=0.5.0.post1 in /ceph/hpc/home/capodannom/.local/lib/python3.11/site-packages (from livecodebench==0.1.0) (0.8.2)\n",
      "Requirement already satisfied: together>=0.21.0 in /ceph/hpc/home/capodannom/.local/lib/python3.11/site-packages (from livecodebench==0.1.0) (1.5.5)\n",
      "Requirement already satisfied: httpx<1,>=0.25 in /ceph/hpc/home/capodannom/.local/lib/python3.11/site-packages (from mistralai==0.4.2->livecodebench==0.1.0) (0.28.1)\n",
      "Requirement already satisfied: orjson<3.11,>=3.9.10 in /ceph/hpc/home/capodannom/.local/lib/python3.11/site-packages (from mistralai==0.4.2->livecodebench==0.1.0) (3.10.16)\n",
      "Requirement already satisfied: pydantic<3,>=2.5.2 in /ceph/hpc/home/capodannom/.local/lib/python3.11/site-packages (from mistralai==0.4.2->livecodebench==0.1.0) (2.11.3)\n",
      "Requirement already satisfied: anyio<5,>=3.5.0 in /ceph/hpc/home/capodannom/.local/lib/python3.11/site-packages (from anthropic>=0.42.0->livecodebench==0.1.0) (4.9.0)\n",
      "Requirement already satisfied: distro<2,>=1.7.0 in /ceph/hpc/home/capodannom/.local/lib/python3.11/site-packages (from anthropic>=0.42.0->livecodebench==0.1.0) (1.9.0)\n",
      "Requirement already satisfied: jiter<1,>=0.4.0 in /ceph/hpc/home/capodannom/.local/lib/python3.11/site-packages (from anthropic>=0.42.0->livecodebench==0.1.0) (0.9.0)\n",
      "Requirement already satisfied: sniffio in /cvmfs/sling.si/modules/el7/software/Anaconda3/2023.07-2/lib/python3.11/site-packages (from anthropic>=0.42.0->livecodebench==0.1.0) (1.2.0)\n",
      "Requirement already satisfied: typing-extensions<5,>=4.10 in /ceph/hpc/home/capodannom/.local/lib/python3.11/site-packages (from anthropic>=0.42.0->livecodebench==0.1.0) (4.13.2)\n",
      "Requirement already satisfied: fastavro<2.0.0,>=1.9.4 in /ceph/hpc/home/capodannom/.local/lib/python3.11/site-packages (from cohere>=5.13.6->livecodebench==0.1.0) (1.10.0)\n",
      "Requirement already satisfied: httpx-sse==0.4.0 in /ceph/hpc/home/capodannom/.local/lib/python3.11/site-packages (from cohere>=5.13.6->livecodebench==0.1.0) (0.4.0)\n",
      "Requirement already satisfied: pydantic-core<3.0.0,>=2.18.2 in /ceph/hpc/home/capodannom/.local/lib/python3.11/site-packages (from cohere>=5.13.6->livecodebench==0.1.0) (2.33.1)\n",
      "Requirement already satisfied: requests<3.0.0,>=2.0.0 in /ceph/hpc/home/capodannom/.local/lib/python3.11/site-packages (from cohere>=5.13.6->livecodebench==0.1.0) (2.32.3)\n",
      "Requirement already satisfied: tokenizers<1,>=0.15 in /ceph/hpc/home/capodannom/.local/lib/python3.11/site-packages (from cohere>=5.13.6->livecodebench==0.1.0) (0.21.1)\n",
      "Requirement already satisfied: types-requests<3.0.0,>=2.0.0 in /ceph/hpc/home/capodannom/.local/lib/python3.11/site-packages (from cohere>=5.13.6->livecodebench==0.1.0) (2.32.0.20250328)\n",
      "Requirement already satisfied: filelock in /ceph/hpc/home/capodannom/.local/lib/python3.11/site-packages (from datasets>=3.2.0->livecodebench==0.1.0) (3.18.0)\n",
      "Requirement already satisfied: numpy>=1.17 in /ceph/hpc/home/capodannom/.local/lib/python3.11/site-packages (from datasets>=3.2.0->livecodebench==0.1.0) (1.26.4)\n",
      "Requirement already satisfied: pyarrow>=15.0.0 in /ceph/hpc/home/capodannom/.local/lib/python3.11/site-packages (from datasets>=3.2.0->livecodebench==0.1.0) (20.0.0)\n",
      "Requirement already satisfied: dill<0.3.9,>=0.3.0 in /cvmfs/sling.si/modules/el7/software/Anaconda3/2023.07-2/lib/python3.11/site-packages (from datasets>=3.2.0->livecodebench==0.1.0) (0.3.6)\n",
      "Requirement already satisfied: pandas in /cvmfs/sling.si/modules/el7/software/Anaconda3/2023.07-2/lib/python3.11/site-packages (from datasets>=3.2.0->livecodebench==0.1.0) (1.5.3)\n",
      "Requirement already satisfied: tqdm>=4.66.3 in /ceph/hpc/home/capodannom/.local/lib/python3.11/site-packages (from datasets>=3.2.0->livecodebench==0.1.0) (4.67.1)\n",
      "Requirement already satisfied: xxhash in /cvmfs/sling.si/modules/el7/software/Anaconda3/2023.07-2/lib/python3.11/site-packages (from datasets>=3.2.0->livecodebench==0.1.0) (2.0.2)\n",
      "Requirement already satisfied: multiprocess<0.70.17 in /cvmfs/sling.si/modules/el7/software/Anaconda3/2023.07-2/lib/python3.11/site-packages (from datasets>=3.2.0->livecodebench==0.1.0) (0.70.14)\n",
      "Requirement already satisfied: fsspec[http]<=2025.3.0,>=2023.1.0 in /ceph/hpc/home/capodannom/.local/lib/python3.11/site-packages (from datasets>=3.2.0->livecodebench==0.1.0) (2025.3.0)\n",
      "Requirement already satisfied: aiohttp in /ceph/hpc/home/capodannom/.local/lib/python3.11/site-packages (from datasets>=3.2.0->livecodebench==0.1.0) (3.11.18)\n",
      "Requirement already satisfied: huggingface-hub>=0.24.0 in /ceph/hpc/home/capodannom/.local/lib/python3.11/site-packages (from datasets>=3.2.0->livecodebench==0.1.0) (0.30.2)\n",
      "Requirement already satisfied: packaging in /cvmfs/sling.si/modules/el7/software/Anaconda3/2023.07-2/lib/python3.11/site-packages (from datasets>=3.2.0->livecodebench==0.1.0) (23.0)\n",
      "Requirement already satisfied: pyyaml>=5.1 in /cvmfs/sling.si/modules/el7/software/Anaconda3/2023.07-2/lib/python3.11/site-packages (from datasets>=3.2.0->livecodebench==0.1.0) (6.0)\n",
      "Requirement already satisfied: google-auth<3.0.0,>=2.14.1 in /ceph/hpc/home/capodannom/.local/lib/python3.11/site-packages (from google-genai>=0.6.0->livecodebench==0.1.0) (2.39.0)\n",
      "Requirement already satisfied: websockets<15.1.0,>=13.0.0 in /ceph/hpc/home/capodannom/.local/lib/python3.11/site-packages (from google-genai>=0.6.0->livecodebench==0.1.0) (15.0.1)\n",
      "Requirement already satisfied: click<9.0.0,>=8.1.7 in /ceph/hpc/home/capodannom/.local/lib/python3.11/site-packages (from together>=0.21.0->livecodebench==0.1.0) (8.1.8)\n",
      "Requirement already satisfied: eval-type-backport<0.3.0,>=0.1.3 in /ceph/hpc/home/capodannom/.local/lib/python3.11/site-packages (from together>=0.21.0->livecodebench==0.1.0) (0.2.2)\n",
      "Requirement already satisfied: pillow<12.0.0,>=11.1.0 in /ceph/hpc/home/capodannom/.local/lib/python3.11/site-packages (from together>=0.21.0->livecodebench==0.1.0) (11.2.1)\n",
      "Requirement already satisfied: rich<14.0.0,>=13.8.1 in /ceph/hpc/home/capodannom/.local/lib/python3.11/site-packages (from together>=0.21.0->livecodebench==0.1.0) (13.9.4)\n",
      "Requirement already satisfied: tabulate<0.10.0,>=0.9.0 in /ceph/hpc/home/capodannom/.local/lib/python3.11/site-packages (from together>=0.21.0->livecodebench==0.1.0) (0.9.0)\n",
      "Requirement already satisfied: typer<0.16,>=0.9 in /ceph/hpc/home/capodannom/.local/lib/python3.11/site-packages (from together>=0.21.0->livecodebench==0.1.0) (0.15.3)\n",
      "Requirement already satisfied: networkx in /cvmfs/sling.si/modules/el7/software/Anaconda3/2023.07-2/lib/python3.11/site-packages (from torch>=2.3.0->livecodebench==0.1.0) (3.1)\n",
      "Requirement already satisfied: jinja2 in /ceph/hpc/home/capodannom/.local/lib/python3.11/site-packages (from torch>=2.3.0->livecodebench==0.1.0) (3.1.6)\n",
      "Requirement already satisfied: nvidia-cuda-nvrtc-cu12==12.4.127 in /ceph/hpc/home/capodannom/.local/lib/python3.11/site-packages (from torch>=2.3.0->livecodebench==0.1.0) (12.4.127)\n",
      "Requirement already satisfied: nvidia-cuda-runtime-cu12==12.4.127 in /ceph/hpc/home/capodannom/.local/lib/python3.11/site-packages (from torch>=2.3.0->livecodebench==0.1.0) (12.4.127)\n",
      "Requirement already satisfied: nvidia-cuda-cupti-cu12==12.4.127 in /ceph/hpc/home/capodannom/.local/lib/python3.11/site-packages (from torch>=2.3.0->livecodebench==0.1.0) (12.4.127)\n",
      "Requirement already satisfied: nvidia-cudnn-cu12==9.1.0.70 in /ceph/hpc/home/capodannom/.local/lib/python3.11/site-packages (from torch>=2.3.0->livecodebench==0.1.0) (9.1.0.70)\n",
      "Requirement already satisfied: nvidia-cublas-cu12==12.4.5.8 in /ceph/hpc/home/capodannom/.local/lib/python3.11/site-packages (from torch>=2.3.0->livecodebench==0.1.0) (12.4.5.8)\n",
      "Requirement already satisfied: nvidia-cufft-cu12==11.2.1.3 in /ceph/hpc/home/capodannom/.local/lib/python3.11/site-packages (from torch>=2.3.0->livecodebench==0.1.0) (11.2.1.3)\n",
      "Requirement already satisfied: nvidia-curand-cu12==10.3.5.147 in /ceph/hpc/home/capodannom/.local/lib/python3.11/site-packages (from torch>=2.3.0->livecodebench==0.1.0) (10.3.5.147)\n",
      "Requirement already satisfied: nvidia-cusolver-cu12==11.6.1.9 in /ceph/hpc/home/capodannom/.local/lib/python3.11/site-packages (from torch>=2.3.0->livecodebench==0.1.0) (11.6.1.9)\n",
      "Requirement already satisfied: nvidia-cusparse-cu12==12.3.1.170 in /ceph/hpc/home/capodannom/.local/lib/python3.11/site-packages (from torch>=2.3.0->livecodebench==0.1.0) (12.3.1.170)\n",
      "Requirement already satisfied: nvidia-cusparselt-cu12==0.6.2 in /ceph/hpc/home/capodannom/.local/lib/python3.11/site-packages (from torch>=2.3.0->livecodebench==0.1.0) (0.6.2)\n",
      "Requirement already satisfied: nvidia-nccl-cu12==2.21.5 in /ceph/hpc/home/capodannom/.local/lib/python3.11/site-packages (from torch>=2.3.0->livecodebench==0.1.0) (2.21.5)\n",
      "Requirement already satisfied: nvidia-nvtx-cu12==12.4.127 in /ceph/hpc/home/capodannom/.local/lib/python3.11/site-packages (from torch>=2.3.0->livecodebench==0.1.0) (12.4.127)\n",
      "Requirement already satisfied: nvidia-nvjitlink-cu12==12.4.127 in /ceph/hpc/home/capodannom/.local/lib/python3.11/site-packages (from torch>=2.3.0->livecodebench==0.1.0) (12.4.127)\n",
      "Requirement already satisfied: triton==3.2.0 in /ceph/hpc/home/capodannom/.local/lib/python3.11/site-packages (from torch>=2.3.0->livecodebench==0.1.0) (3.2.0)\n",
      "Requirement already satisfied: sympy==1.13.1 in /ceph/hpc/home/capodannom/.local/lib/python3.11/site-packages (from torch>=2.3.0->livecodebench==0.1.0) (1.13.1)\n",
      "Requirement already satisfied: mpmath<1.4,>=1.1.0 in /cvmfs/sling.si/modules/el7/software/Anaconda3/2023.07-2/lib/python3.11/site-packages (from sympy==1.13.1->torch>=2.3.0->livecodebench==0.1.0) (1.3.0)\n",
      "Requirement already satisfied: cachetools in /ceph/hpc/home/capodannom/.local/lib/python3.11/site-packages (from vllm>=0.5.0.post1->livecodebench==0.1.0) (5.5.2)\n",
      "Requirement already satisfied: psutil in /cvmfs/sling.si/modules/el7/software/Anaconda3/2023.07-2/lib/python3.11/site-packages (from vllm>=0.5.0.post1->livecodebench==0.1.0) (5.9.0)\n",
      "Requirement already satisfied: sentencepiece in /ceph/hpc/home/capodannom/.local/lib/python3.11/site-packages (from vllm>=0.5.0.post1->livecodebench==0.1.0) (0.2.0)\n",
      "Requirement already satisfied: blake3 in /ceph/hpc/home/capodannom/.local/lib/python3.11/site-packages (from vllm>=0.5.0.post1->livecodebench==0.1.0) (1.0.4)\n",
      "Requirement already satisfied: py-cpuinfo in /cvmfs/sling.si/modules/el7/software/Anaconda3/2023.07-2/lib/python3.11/site-packages (from vllm>=0.5.0.post1->livecodebench==0.1.0) (8.0.0)\n",
      "Requirement already satisfied: transformers>=4.48.2 in /ceph/hpc/home/capodannom/.local/lib/python3.11/site-packages (from vllm>=0.5.0.post1->livecodebench==0.1.0) (4.51.3)\n",
      "Requirement already satisfied: protobuf in /ceph/hpc/home/capodannom/.local/lib/python3.11/site-packages (from vllm>=0.5.0.post1->livecodebench==0.1.0) (5.29.4)\n",
      "Requirement already satisfied: fastapi[standard]>=0.115.0 in /ceph/hpc/home/capodannom/.local/lib/python3.11/site-packages (from vllm>=0.5.0.post1->livecodebench==0.1.0) (0.115.12)\n",
      "Requirement already satisfied: prometheus_client>=0.18.0 in /ceph/hpc/home/capodannom/.local/lib/python3.11/site-packages (from vllm>=0.5.0.post1->livecodebench==0.1.0) (0.21.1)\n",
      "Requirement already satisfied: prometheus-fastapi-instrumentator>=7.0.0 in /ceph/hpc/home/capodannom/.local/lib/python3.11/site-packages (from vllm>=0.5.0.post1->livecodebench==0.1.0) (7.1.0)\n",
      "Requirement already satisfied: tiktoken>=0.6.0 in /ceph/hpc/home/capodannom/.local/lib/python3.11/site-packages (from vllm>=0.5.0.post1->livecodebench==0.1.0) (0.9.0)\n",
      "Requirement already satisfied: lm-format-enforcer<0.11,>=0.10.11 in /ceph/hpc/home/capodannom/.local/lib/python3.11/site-packages (from vllm>=0.5.0.post1->livecodebench==0.1.0) (0.10.11)\n",
      "Requirement already satisfied: llguidance<0.8.0,>=0.7.9 in /ceph/hpc/home/capodannom/.local/lib/python3.11/site-packages (from vllm>=0.5.0.post1->livecodebench==0.1.0) (0.7.19)\n",
      "Requirement already satisfied: outlines==0.1.11 in /ceph/hpc/home/capodannom/.local/lib/python3.11/site-packages (from vllm>=0.5.0.post1->livecodebench==0.1.0) (0.1.11)\n",
      "Requirement already satisfied: lark==1.2.2 in /ceph/hpc/home/capodannom/.local/lib/python3.11/site-packages (from vllm>=0.5.0.post1->livecodebench==0.1.0) (1.2.2)\n",
      "Requirement already satisfied: xgrammar==0.1.16 in /ceph/hpc/home/capodannom/.local/lib/python3.11/site-packages (from vllm>=0.5.0.post1->livecodebench==0.1.0) (0.1.16)\n",
      "Requirement already satisfied: partial-json-parser in /ceph/hpc/home/capodannom/.local/lib/python3.11/site-packages (from vllm>=0.5.0.post1->livecodebench==0.1.0) (0.2.1.1.post5)\n",
      "Requirement already satisfied: pyzmq in /ceph/hpc/home/capodannom/.local/lib/python3.11/site-packages (from vllm>=0.5.0.post1->livecodebench==0.1.0) (26.4.0)\n",
      "Requirement already satisfied: msgspec in /ceph/hpc/home/capodannom/.local/lib/python3.11/site-packages (from vllm>=0.5.0.post1->livecodebench==0.1.0) (0.19.0)\n",
      "Requirement already satisfied: gguf==0.10.0 in /ceph/hpc/home/capodannom/.local/lib/python3.11/site-packages (from vllm>=0.5.0.post1->livecodebench==0.1.0) (0.10.0)\n",
      "Requirement already satisfied: importlib_metadata in /cvmfs/sling.si/modules/el7/software/Anaconda3/2023.07-2/lib/python3.11/site-packages (from vllm>=0.5.0.post1->livecodebench==0.1.0) (6.0.0)\n",
      "Requirement already satisfied: mistral_common[opencv]>=1.5.4 in /ceph/hpc/home/capodannom/.local/lib/python3.11/site-packages (from vllm>=0.5.0.post1->livecodebench==0.1.0) (1.5.4)\n",
      "Requirement already satisfied: einops in /ceph/hpc/home/capodannom/.local/lib/python3.11/site-packages (from vllm>=0.5.0.post1->livecodebench==0.1.0) (0.8.1)\n",
      "Requirement already satisfied: compressed-tensors==0.9.2 in /ceph/hpc/home/capodannom/.local/lib/python3.11/site-packages (from vllm>=0.5.0.post1->livecodebench==0.1.0) (0.9.2)\n",
      "Requirement already satisfied: depyf==0.18.0 in /ceph/hpc/home/capodannom/.local/lib/python3.11/site-packages (from vllm>=0.5.0.post1->livecodebench==0.1.0) (0.18.0)\n",
      "Requirement already satisfied: cloudpickle in /cvmfs/sling.si/modules/el7/software/Anaconda3/2023.07-2/lib/python3.11/site-packages (from vllm>=0.5.0.post1->livecodebench==0.1.0) (2.2.1)\n",
      "Requirement already satisfied: watchfiles in /ceph/hpc/home/capodannom/.local/lib/python3.11/site-packages (from vllm>=0.5.0.post1->livecodebench==0.1.0) (1.0.5)\n",
      "Requirement already satisfied: python-json-logger in /cvmfs/sling.si/modules/el7/software/Anaconda3/2023.07-2/lib/python3.11/site-packages (from vllm>=0.5.0.post1->livecodebench==0.1.0) (2.0.7)\n",
      "Requirement already satisfied: scipy in /cvmfs/sling.si/modules/el7/software/Anaconda3/2023.07-2/lib/python3.11/site-packages (from vllm>=0.5.0.post1->livecodebench==0.1.0) (1.10.1)\n",
      "Requirement already satisfied: ninja in /ceph/hpc/home/capodannom/.local/lib/python3.11/site-packages (from vllm>=0.5.0.post1->livecodebench==0.1.0) (1.11.1.4)\n",
      "Requirement already satisfied: numba==0.60.0 in /ceph/hpc/home/capodannom/.local/lib/python3.11/site-packages (from vllm>=0.5.0.post1->livecodebench==0.1.0) (0.60.0)\n",
      "Requirement already satisfied: ray[cgraph]>=2.43.0 in /ceph/hpc/home/capodannom/.local/lib/python3.11/site-packages (from vllm>=0.5.0.post1->livecodebench==0.1.0) (2.43.0)\n",
      "Requirement already satisfied: torchaudio==2.6.0 in /ceph/hpc/home/capodannom/.local/lib/python3.11/site-packages (from vllm>=0.5.0.post1->livecodebench==0.1.0) (2.6.0)\n",
      "Requirement already satisfied: torchvision==0.21.0 in /ceph/hpc/home/capodannom/.local/lib/python3.11/site-packages (from vllm>=0.5.0.post1->livecodebench==0.1.0) (0.21.0)\n",
      "Requirement already satisfied: xformers==0.0.29.post2 in /ceph/hpc/home/capodannom/.local/lib/python3.11/site-packages (from vllm>=0.5.0.post1->livecodebench==0.1.0) (0.0.29.post2)\n",
      "Requirement already satisfied: astor in /ceph/hpc/home/capodannom/.local/lib/python3.11/site-packages (from depyf==0.18.0->vllm>=0.5.0.post1->livecodebench==0.1.0) (0.8.1)\n",
      "Requirement already satisfied: llvmlite<0.44,>=0.43.0dev0 in /ceph/hpc/home/capodannom/.local/lib/python3.11/site-packages (from numba==0.60.0->vllm>=0.5.0.post1->livecodebench==0.1.0) (0.43.0)\n",
      "Requirement already satisfied: interegular in /ceph/hpc/home/capodannom/.local/lib/python3.11/site-packages (from outlines==0.1.11->vllm>=0.5.0.post1->livecodebench==0.1.0) (0.3.3)\n",
      "Requirement already satisfied: nest_asyncio in /cvmfs/sling.si/modules/el7/software/Anaconda3/2023.07-2/lib/python3.11/site-packages (from outlines==0.1.11->vllm>=0.5.0.post1->livecodebench==0.1.0) (1.5.6)\n",
      "Requirement already satisfied: diskcache in /ceph/hpc/home/capodannom/.local/lib/python3.11/site-packages (from outlines==0.1.11->vllm>=0.5.0.post1->livecodebench==0.1.0) (5.6.3)\n",
      "Requirement already satisfied: referencing in /ceph/hpc/home/capodannom/.local/lib/python3.11/site-packages (from outlines==0.1.11->vllm>=0.5.0.post1->livecodebench==0.1.0) (0.36.2)\n",
      "Requirement already satisfied: jsonschema in /ceph/hpc/home/capodannom/.local/lib/python3.11/site-packages (from outlines==0.1.11->vllm>=0.5.0.post1->livecodebench==0.1.0) (4.23.0)\n",
      "Requirement already satisfied: pycountry in /ceph/hpc/home/capodannom/.local/lib/python3.11/site-packages (from outlines==0.1.11->vllm>=0.5.0.post1->livecodebench==0.1.0) (24.6.1)\n",
      "Requirement already satisfied: airportsdata in /ceph/hpc/home/capodannom/.local/lib/python3.11/site-packages (from outlines==0.1.11->vllm>=0.5.0.post1->livecodebench==0.1.0) (20250224)\n",
      "Requirement already satisfied: outlines_core==0.1.26 in /ceph/hpc/home/capodannom/.local/lib/python3.11/site-packages (from outlines==0.1.11->vllm>=0.5.0.post1->livecodebench==0.1.0) (0.1.26)\n",
      "Requirement already satisfied: aiohappyeyeballs>=2.3.0 in /ceph/hpc/home/capodannom/.local/lib/python3.11/site-packages (from aiohttp->datasets>=3.2.0->livecodebench==0.1.0) (2.6.1)\n",
      "Requirement already satisfied: aiosignal>=1.1.2 in /cvmfs/sling.si/modules/el7/software/Anaconda3/2023.07-2/lib/python3.11/site-packages (from aiohttp->datasets>=3.2.0->livecodebench==0.1.0) (1.2.0)\n",
      "Requirement already satisfied: attrs>=17.3.0 in /ceph/hpc/home/capodannom/.local/lib/python3.11/site-packages (from aiohttp->datasets>=3.2.0->livecodebench==0.1.0) (25.3.0)\n",
      "Requirement already satisfied: frozenlist>=1.1.1 in /cvmfs/sling.si/modules/el7/software/Anaconda3/2023.07-2/lib/python3.11/site-packages (from aiohttp->datasets>=3.2.0->livecodebench==0.1.0) (1.3.3)\n",
      "Requirement already satisfied: multidict<7.0,>=4.5 in /cvmfs/sling.si/modules/el7/software/Anaconda3/2023.07-2/lib/python3.11/site-packages (from aiohttp->datasets>=3.2.0->livecodebench==0.1.0) (6.0.2)\n",
      "Requirement already satisfied: propcache>=0.2.0 in /ceph/hpc/home/capodannom/.local/lib/python3.11/site-packages (from aiohttp->datasets>=3.2.0->livecodebench==0.1.0) (0.3.1)\n",
      "Requirement already satisfied: yarl<2.0,>=1.17.0 in /ceph/hpc/home/capodannom/.local/lib/python3.11/site-packages (from aiohttp->datasets>=3.2.0->livecodebench==0.1.0) (1.20.0)\n",
      "Requirement already satisfied: idna>=2.8 in /cvmfs/sling.si/modules/el7/software/Anaconda3/2023.07-2/lib/python3.11/site-packages (from anyio<5,>=3.5.0->anthropic>=0.42.0->livecodebench==0.1.0) (3.4)\n",
      "Requirement already satisfied: starlette<0.47.0,>=0.40.0 in /ceph/hpc/home/capodannom/.local/lib/python3.11/site-packages (from fastapi[standard]>=0.115.0->vllm>=0.5.0.post1->livecodebench==0.1.0) (0.46.2)\n",
      "Requirement already satisfied: fastapi-cli[standard]>=0.0.5 in /ceph/hpc/home/capodannom/.local/lib/python3.11/site-packages (from fastapi[standard]>=0.115.0->vllm>=0.5.0.post1->livecodebench==0.1.0) (0.0.7)\n",
      "Requirement already satisfied: python-multipart>=0.0.18 in /ceph/hpc/home/capodannom/.local/lib/python3.11/site-packages (from fastapi[standard]>=0.115.0->vllm>=0.5.0.post1->livecodebench==0.1.0) (0.0.20)\n",
      "Requirement already satisfied: email-validator>=2.0.0 in /ceph/hpc/home/capodannom/.local/lib/python3.11/site-packages (from fastapi[standard]>=0.115.0->vllm>=0.5.0.post1->livecodebench==0.1.0) (2.2.0)\n",
      "Requirement already satisfied: uvicorn[standard]>=0.12.0 in /ceph/hpc/home/capodannom/.local/lib/python3.11/site-packages (from fastapi[standard]>=0.115.0->vllm>=0.5.0.post1->livecodebench==0.1.0) (0.34.2)\n",
      "Requirement already satisfied: pyasn1-modules>=0.2.1 in /cvmfs/sling.si/modules/el7/software/Anaconda3/2023.07-2/lib/python3.11/site-packages (from google-auth<3.0.0,>=2.14.1->google-genai>=0.6.0->livecodebench==0.1.0) (0.2.8)\n",
      "Requirement already satisfied: rsa<5,>=3.1.4 in /ceph/hpc/home/capodannom/.local/lib/python3.11/site-packages (from google-auth<3.0.0,>=2.14.1->google-genai>=0.6.0->livecodebench==0.1.0) (4.9.1)\n",
      "Requirement already satisfied: certifi in /cvmfs/sling.si/modules/el7/software/Anaconda3/2023.07-2/lib/python3.11/site-packages (from httpx<1,>=0.25->mistralai==0.4.2->livecodebench==0.1.0) (2023.7.22)\n",
      "Requirement already satisfied: httpcore==1.* in /ceph/hpc/home/capodannom/.local/lib/python3.11/site-packages (from httpx<1,>=0.25->mistralai==0.4.2->livecodebench==0.1.0) (1.0.9)\n",
      "Requirement already satisfied: h11>=0.16 in /ceph/hpc/home/capodannom/.local/lib/python3.11/site-packages (from httpcore==1.*->httpx<1,>=0.25->mistralai==0.4.2->livecodebench==0.1.0) (0.16.0)\n",
      "Requirement already satisfied: MarkupSafe>=2.0 in /cvmfs/sling.si/modules/el7/software/Anaconda3/2023.07-2/lib/python3.11/site-packages (from jinja2->torch>=2.3.0->livecodebench==0.1.0) (2.1.1)\n",
      "Requirement already satisfied: opencv-python-headless>=4.0.0 in /ceph/hpc/home/capodannom/.local/lib/python3.11/site-packages (from mistral_common[opencv]>=1.5.4->vllm>=0.5.0.post1->livecodebench==0.1.0) (4.11.0.86)\n",
      "Requirement already satisfied: typing-inspection>=0.4.0 in /ceph/hpc/home/capodannom/.local/lib/python3.11/site-packages (from pydantic<3,>=2.5.2->mistralai==0.4.2->livecodebench==0.1.0) (0.4.0)\n",
      "Requirement already satisfied: msgpack<2.0.0,>=1.0.0 in /cvmfs/sling.si/modules/el7/software/Anaconda3/2023.07-2/lib/python3.11/site-packages (from ray[cgraph]>=2.43.0->vllm>=0.5.0.post1->livecodebench==0.1.0) (1.0.3)\n",
      "Requirement already satisfied: cupy-cuda12x in /ceph/hpc/home/capodannom/.local/lib/python3.11/site-packages (from ray[cgraph]>=2.43.0->vllm>=0.5.0.post1->livecodebench==0.1.0) (13.4.1)\n",
      "Requirement already satisfied: charset-normalizer<4,>=2 in /cvmfs/sling.si/modules/el7/software/Anaconda3/2023.07-2/lib/python3.11/site-packages (from requests<3.0.0,>=2.0.0->cohere>=5.13.6->livecodebench==0.1.0) (2.0.4)\n",
      "Requirement already satisfied: urllib3<3,>=1.21.1 in /ceph/hpc/home/capodannom/.local/lib/python3.11/site-packages (from requests<3.0.0,>=2.0.0->cohere>=5.13.6->livecodebench==0.1.0) (2.4.0)\n",
      "Requirement already satisfied: markdown-it-py>=2.2.0 in /cvmfs/sling.si/modules/el7/software/Anaconda3/2023.07-2/lib/python3.11/site-packages (from rich<14.0.0,>=13.8.1->together>=0.21.0->livecodebench==0.1.0) (2.2.0)\n",
      "Requirement already satisfied: pygments<3.0.0,>=2.13.0 in /cvmfs/sling.si/modules/el7/software/Anaconda3/2023.07-2/lib/python3.11/site-packages (from rich<14.0.0,>=13.8.1->together>=0.21.0->livecodebench==0.1.0) (2.15.1)\n",
      "Requirement already satisfied: regex>=2022.1.18 in /cvmfs/sling.si/modules/el7/software/Anaconda3/2023.07-2/lib/python3.11/site-packages (from tiktoken>=0.6.0->vllm>=0.5.0.post1->livecodebench==0.1.0) (2022.7.9)\n",
      "Requirement already satisfied: safetensors>=0.4.3 in /ceph/hpc/home/capodannom/.local/lib/python3.11/site-packages (from transformers>=4.48.2->vllm>=0.5.0.post1->livecodebench==0.1.0) (0.5.3)\n",
      "Requirement already satisfied: shellingham>=1.3.0 in /ceph/hpc/home/capodannom/.local/lib/python3.11/site-packages (from typer<0.16,>=0.9->together>=0.21.0->livecodebench==0.1.0) (1.5.4)\n",
      "Requirement already satisfied: zipp>=0.5 in /cvmfs/sling.si/modules/el7/software/Anaconda3/2023.07-2/lib/python3.11/site-packages (from importlib_metadata->vllm>=0.5.0.post1->livecodebench==0.1.0) (3.11.0)\n",
      "Requirement already satisfied: python-dateutil>=2.8.1 in /cvmfs/sling.si/modules/el7/software/Anaconda3/2023.07-2/lib/python3.11/site-packages (from pandas->datasets>=3.2.0->livecodebench==0.1.0) (2.8.2)\n",
      "Requirement already satisfied: pytz>=2020.1 in /cvmfs/sling.si/modules/el7/software/Anaconda3/2023.07-2/lib/python3.11/site-packages (from pandas->datasets>=3.2.0->livecodebench==0.1.0) (2022.7)\n",
      "Requirement already satisfied: dnspython>=2.0.0 in /ceph/hpc/home/capodannom/.local/lib/python3.11/site-packages (from email-validator>=2.0.0->fastapi[standard]>=0.115.0->vllm>=0.5.0.post1->livecodebench==0.1.0) (2.7.0)\n",
      "Requirement already satisfied: rich-toolkit>=0.11.1 in /ceph/hpc/home/capodannom/.local/lib/python3.11/site-packages (from fastapi-cli[standard]>=0.0.5->fastapi[standard]>=0.115.0->vllm>=0.5.0.post1->livecodebench==0.1.0) (0.14.3)\n",
      "Requirement already satisfied: jsonschema-specifications>=2023.03.6 in /ceph/hpc/home/capodannom/.local/lib/python3.11/site-packages (from jsonschema->outlines==0.1.11->vllm>=0.5.0.post1->livecodebench==0.1.0) (2025.4.1)\n",
      "Requirement already satisfied: rpds-py>=0.7.1 in /ceph/hpc/home/capodannom/.local/lib/python3.11/site-packages (from jsonschema->outlines==0.1.11->vllm>=0.5.0.post1->livecodebench==0.1.0) (0.24.0)\n",
      "Requirement already satisfied: mdurl~=0.1 in /cvmfs/sling.si/modules/el7/software/Anaconda3/2023.07-2/lib/python3.11/site-packages (from markdown-it-py>=2.2.0->rich<14.0.0,>=13.8.1->together>=0.21.0->livecodebench==0.1.0) (0.1.0)\n",
      "Requirement already satisfied: pyasn1<0.5.0,>=0.4.6 in /cvmfs/sling.si/modules/el7/software/Anaconda3/2023.07-2/lib/python3.11/site-packages (from pyasn1-modules>=0.2.1->google-auth<3.0.0,>=2.14.1->google-genai>=0.6.0->livecodebench==0.1.0) (0.4.8)\n",
      "Requirement already satisfied: six>=1.5 in /cvmfs/sling.si/modules/el7/software/Anaconda3/2023.07-2/lib/python3.11/site-packages (from python-dateutil>=2.8.1->pandas->datasets>=3.2.0->livecodebench==0.1.0) (1.16.0)\n",
      "Requirement already satisfied: httptools>=0.6.3 in /ceph/hpc/home/capodannom/.local/lib/python3.11/site-packages (from uvicorn[standard]>=0.12.0->fastapi[standard]>=0.115.0->vllm>=0.5.0.post1->livecodebench==0.1.0) (0.6.4)\n",
      "Requirement already satisfied: python-dotenv>=0.13 in /ceph/hpc/home/capodannom/.local/lib/python3.11/site-packages (from uvicorn[standard]>=0.12.0->fastapi[standard]>=0.115.0->vllm>=0.5.0.post1->livecodebench==0.1.0) (1.1.0)\n",
      "Requirement already satisfied: uvloop!=0.15.0,!=0.15.1,>=0.14.0 in /ceph/hpc/home/capodannom/.local/lib/python3.11/site-packages (from uvicorn[standard]>=0.12.0->fastapi[standard]>=0.115.0->vllm>=0.5.0.post1->livecodebench==0.1.0) (0.21.0)\n",
      "Requirement already satisfied: fastrlock>=0.5 in /ceph/hpc/home/capodannom/.local/lib/python3.11/site-packages (from cupy-cuda12x->ray[cgraph]>=2.43.0->vllm>=0.5.0.post1->livecodebench==0.1.0) (0.8.3)\n",
      "Building wheels for collected packages: livecodebench\n",
      "  Building editable for livecodebench (pyproject.toml) ... \u001b[?25ldone\n",
      "\u001b[?25h  Created wheel for livecodebench: filename=livecodebench-0.1.0-0.editable-py3-none-any.whl size=8201 sha256=cbd562a18fc96237d38bd5d0769fcf67aa96730365dcc2bd736270355bb9f612\n",
      "  Stored in directory: /tmp/pip-ephem-wheel-cache-emelda1g/wheels/a8/7c/74/4ce4e0b13d9a4f90be1ffc99774de687c196a9063a622fd339\n",
      "Successfully built livecodebench\n",
      "Installing collected packages: livecodebench\n",
      "  Attempting uninstall: livecodebench\n",
      "    Found existing installation: livecodebench 0.1.0\n",
      "    Uninstalling livecodebench-0.1.0:\n",
      "      Successfully uninstalled livecodebench-0.1.0\n",
      "Successfully installed livecodebench-0.1.0\n"
     ]
    }
   ],
   "source": [
    "!pip install -e .\n"
   ]
  },
  {
   "cell_type": "markdown",
   "metadata": {
    "id": "sSLFS-71JtaL"
   },
   "source": [
    "# Evaluation Qwen2.5 3B base"
   ]
  },
  {
   "cell_type": "code",
   "execution_count": 5,
   "metadata": {
    "id": "Vpmr5wPEJUy0"
   },
   "outputs": [
    {
     "name": "stdout",
     "output_type": "stream",
     "text": [
      "README.md: 100%|███████████████████████████| 3.39k/3.39k [00:00<00:00, 40.5MB/s]\n",
      "code_generation_lite.py: 100%|█████████████| 5.01k/5.01k [00:00<00:00, 62.2MB/s]\n",
      "test.jsonl: 100%|███████████████████████████| 1.25G/1.25G [00:04<00:00, 264MB/s]\n",
      "test2.jsonl: 100%|████████████████████████████| 713M/713M [00:02<00:00, 308MB/s]\n",
      "test3.jsonl: 100%|████████████████████████████| 623M/623M [00:02<00:00, 250MB/s]\n",
      "test4.jsonl: 100%|██████████████████████████| 1.20G/1.20G [00:04<00:00, 283MB/s]\n",
      "test5.jsonl: 100%|████████████████████████████| 558M/558M [00:01<00:00, 320MB/s]\n",
      "test6.jsonl: 100%|████████████████████████████| 134M/134M [00:00<00:00, 201MB/s]\n",
      "Generating test split: 400 examples [00:05, 71.64 examples/s] \n",
      "Loaded 400 problems\n",
      "INFO 05-25 01:06:14 [__init__.py:239] Automatically detected platform cuda.\n",
      "config.json: 100%|█████████████████████████████| 683/683 [00:00<00:00, 9.58MB/s]\n",
      "INFO 05-25 01:08:29 [config.py:585] This model supports multiple tasks: {'classify', 'score', 'embed', 'reward', 'generate'}. Defaulting to 'generate'.\n",
      "INFO 05-25 01:08:29 [config.py:1697] Chunked prefill is enabled with max_num_batched_tokens=8192.\n",
      "WARNING 05-25 01:08:29 [cuda.py:95] To see benefits of async output processing, enable CUDA graph. Since, enforce-eager is enabled, async output processor cannot be used\n",
      "tokenizer_config.json: 100%|███████████████| 7.23k/7.23k [00:00<00:00, 80.0MB/s]\n",
      "vocab.json: 100%|██████████████████████████| 2.78M/2.78M [00:00<00:00, 5.37MB/s]\n",
      "merges.txt: 100%|██████████████████████████| 1.67M/1.67M [00:00<00:00, 21.5MB/s]\n",
      "tokenizer.json: 100%|██████████████████████| 7.03M/7.03M [00:00<00:00, 11.2MB/s]\n",
      "generation_config.json: 100%|██████████████████| 138/138 [00:00<00:00, 1.16MB/s]\n",
      "INFO 05-25 01:08:37 [core.py:54] Initializing a V1 LLM engine (v0.8.2) with config: model='Qwen/Qwen2.5-3B', speculative_config=None, tokenizer='Qwen/Qwen2.5-3B', skip_tokenizer_init=False, tokenizer_mode=auto, revision=None, override_neuron_config=None, tokenizer_revision=None, trust_remote_code=False, dtype=torch.bfloat16, max_seq_len=32768, download_dir=None, load_format=LoadFormat.AUTO, tensor_parallel_size=1, pipeline_parallel_size=1, disable_custom_all_reduce=True, quantization=None, enforce_eager=True, kv_cache_dtype=auto,  device_config=cuda, decoding_config=DecodingConfig(guided_decoding_backend='xgrammar', reasoning_backend=None), observability_config=ObservabilityConfig(show_hidden_metrics=False, otlp_traces_endpoint=None, collect_model_forward_time=False, collect_model_execute_time=False), seed=None, served_model_name=Qwen/Qwen2.5-3B, num_scheduler_steps=1, multi_step_stream_outputs=True, enable_prefix_caching=False, chunked_prefill_enabled=True, use_async_output_proc=False, disable_mm_preprocessor_cache=False, mm_processor_kwargs=None, pooler_config=None, compilation_config={\"splitting_ops\":[],\"compile_sizes\":[],\"cudagraph_capture_sizes\":[],\"max_capture_size\":0}\n",
      "WARNING 05-25 01:08:43 [utils.py:2321] Methods determine_num_available_blocks,device_config,get_cache_block_size_bytes,initialize_cache not implemented in <vllm.v1.worker.gpu_worker.Worker object at 0x7f0781c91cd0>\n",
      "INFO 05-25 01:08:44 [parallel_state.py:954] rank 0 in world size 1 is assigned as DP rank 0, PP rank 0, TP rank 0\n",
      "INFO 05-25 01:08:44 [cuda.py:220] Using Flash Attention backend on V1 engine.\n",
      "INFO 05-25 01:08:45 [gpu_model_runner.py:1174] Starting to load model Qwen/Qwen2.5-3B...\n",
      "WARNING 05-25 01:08:46 [topk_topp_sampler.py:63] FlashInfer is not available. Falling back to the PyTorch-native implementation of top-p & top-k sampling. For the best performance, please install FlashInfer.\n",
      "INFO 05-25 01:08:47 [weight_utils.py:265] Using model weights format ['*.safetensors']\n",
      "Xet Storage is enabled for this repo, but the 'hf_xet' package is not installed. Falling back to regular HTTP download. For better performance, install the package with: `pip install huggingface_hub[hf_xet]` or `pip install hf_xet`\n",
      "model-00001-of-00002.safetensors: 100%|████▉| 3.97G/3.97G [00:10<00:00, 395MB/s]\n",
      "Xet Storage is enabled for this repo, but the 'hf_xet' package is not installed. Falling back to regular HTTP download. For better performance, install the package with: `pip install huggingface_hub[hf_xet]` or `pip install hf_xet`\n",
      "model-00002-of-00002.safetensors: 100%|████▉| 2.20G/2.20G [00:06<00:00, 333MB/s]\n",
      "INFO 05-25 01:09:04 [weight_utils.py:281] Time spent downloading weights for Qwen/Qwen2.5-3B: 17.616098 seconds\n",
      "model.safetensors.index.json: 100%|████████| 35.6k/35.6k [00:00<00:00, 3.88MB/s]\n",
      "Loading safetensors checkpoint shards:   0% Completed | 0/2 [00:00<?, ?it/s]\n",
      "Loading safetensors checkpoint shards:  50% Completed | 1/2 [00:00<00:00,  1.40it/s]\n",
      "Loading safetensors checkpoint shards: 100% Completed | 2/2 [00:01<00:00,  1.01s/it]\n",
      "Loading safetensors checkpoint shards: 100% Completed | 2/2 [00:01<00:00,  1.04it/s]\n",
      "\n",
      "INFO 05-25 01:09:07 [loader.py:447] Loading weights took 2.01 seconds\n",
      "INFO 05-25 01:09:07 [gpu_model_runner.py:1186] Model loading took 5.7916 GB and 21.939157 seconds\n",
      "INFO 05-25 01:09:08 [kv_cache_utils.py:566] GPU KV cache size: 687,568 tokens\n",
      "INFO 05-25 01:09:08 [kv_cache_utils.py:569] Maximum concurrency for 32,768 tokens per request: 20.98x\n",
      "INFO 05-25 01:09:08 [core.py:151] init engine (profile, create kv cache, warmup model) took 1.60 seconds\n",
      "Processed prompts: 100%|█| 2000/2000 [02:09<00:00, 15.44it/s, est. speed input: \n",
      "Evaluating 2000...\n",
      " 11%|████▎                                   | 218/2000 [00:53<07:18,  4.07it/s]timeout occured: alarm went off\n",
      " 13%|█████▎                                  | 264/2000 [01:05<05:38,  5.13it/s]timeout occured: alarm went off\n",
      "timeout occured: alarm went off\n",
      "timeout occured: alarm went off\n",
      "timeout occured: alarm went off\n",
      " 14%|█████▋                                  | 285/2000 [01:11<07:22,  3.88it/s]timeout occured: alarm went off\n",
      " 14%|█████▋                                  | 286/2000 [01:12<10:52,  2.63it/s]timeout occured: alarm went off\n",
      " 15%|██████▏                                 | 307/2000 [01:17<09:40,  2.92it/s]timeout occured: alarm went off\n",
      " 16%|██████▍                                 | 320/2000 [01:20<05:34,  5.03it/s]timeout occured: alarm went off\n",
      " 20%|████████▏                               | 410/2000 [01:42<10:04,  2.63it/s]timeout occured: alarm went off\n",
      " 23%|█████████                               | 452/2000 [02:01<09:49,  2.62it/s]timeout occured: alarm went off\n",
      "timeout occured: alarm went off\n",
      "timeout occured: alarm went off\n",
      " 23%|█████████                               | 453/2000 [02:02<12:37,  2.04it/s]timeout occured: alarm went off\n",
      " 23%|█████████                               | 455/2000 [02:02<07:57,  3.24it/s]timeout occured: alarm went off\n",
      " 32%|████████████▊                           | 641/2000 [02:45<05:18,  4.27it/s]timeout occured: alarm went off\n",
      "timeout occured: alarm went off\n",
      " 32%|████████████▊                           | 643/2000 [02:47<12:54,  1.75it/s]timeout occured: alarm went off\n",
      " 32%|████████████▉                           | 644/2000 [02:47<10:35,  2.13it/s]timeout occured: alarm went off\n",
      " 32%|█████████████                           | 650/2000 [02:48<05:24,  4.16it/s]timeout occured: alarm went off\n",
      " 35%|██████████████                          | 704/2000 [03:01<04:53,  4.42it/s]timeout occured: alarm went off\n",
      " 35%|██████████████                          | 706/2000 [03:03<07:36,  2.83it/s]timeout occured: alarm went off\n",
      " 37%|██████████████▉                         | 748/2000 [03:12<05:37,  3.70it/s]timeout occured: alarm went off\n",
      " 40%|████████████████                        | 803/2000 [03:26<12:35,  1.58it/s]timeout occured: alarm went off\n",
      " 40%|████████████████                        | 804/2000 [03:27<15:52,  1.26it/s]timeout occured: alarm went off\n",
      " 40%|████████████████                        | 806/2000 [03:27<09:10,  2.17it/s]timeout occured: alarm went off\n",
      " 40%|████████████████▏                       | 810/2000 [03:29<07:25,  2.67it/s]timeout occured: alarm went off\n",
      "timeout occured: alarm went off\n",
      " 41%|████████████████▏                       | 812/2000 [03:30<07:17,  2.72it/s]timeout occured: alarm went off\n",
      "timeout occured: alarm went off\n",
      " 41%|████████████████▎                       | 814/2000 [03:30<05:06,  3.87it/s]timeout occured: alarm went off\n",
      " 42%|████████████████▊                       | 838/2000 [03:36<05:04,  3.81it/s]timeout occured: alarm went off\n",
      " 43%|█████████████████▎                      | 866/2000 [03:44<06:17,  3.00it/s]timeout occured: alarm went off\n",
      " 43%|█████████████████▍                      | 869/2000 [03:45<04:47,  3.94it/s]timeout occured: alarm went off\n",
      "timeout occured: alarm went off\n",
      "timeout occured: alarm went off\n",
      " 45%|█████████████████▉                      | 894/2000 [03:53<09:32,  1.93it/s]timeout occured: alarm went off\n",
      "timeout occured: alarm went off\n",
      "timeout occured: alarm went off\n",
      "timeout occured: alarm went off\n",
      " 45%|█████████████████▉                      | 897/2000 [03:54<06:27,  2.84it/s]timeout occured: alarm went off\n",
      " 48%|███████████████████                     | 955/2000 [04:06<03:12,  5.44it/s]timeout occured: alarm went off\n",
      "timeout occured: alarm went off\n",
      "100%|███████████████████████████████████████| 2000/2000 [08:57<00:00,  3.72it/s]\n",
      "0.15600000000000003\n"
     ]
    }
   ],
   "source": [
    "!python -m lcb_runner.runner.main --model Qwen/Qwen2.5-3B --scenario codegeneration --evaluate --release_version release_v1 --n 5"
   ]
  },
  {
   "cell_type": "code",
   "execution_count": 11,
   "metadata": {
    "id": "ca_7ZZovJcq_"
   },
   "outputs": [
    {
     "name": "stdout",
     "output_type": "stream",
     "text": [
      "400\r\n",
      "Pass@1 =  0.15600000000000003\r\n",
      "Easy Pass@1 =  0.30985915492957744\r\n",
      "Medium Pass@1 =  0.10833333333333332\r\n",
      "Hard Pass@1 =  0.002222222222222222\r\n",
      "Pass@5 =  0.215\r\n",
      "Easy Pass@5 =  0.4014084507042254\r\n",
      "Medium Pass@5 =  0.16666666666666666\r\n",
      "Hard Pass@5 =  0.011111111111111112\r\n",
      "Pass@10 =  1.0\r\n",
      "Easy Pass@10 =  1.0\r\n",
      "Medium Pass@10 =  1.0\r\n",
      "Hard Pass@10 =  1.0\r\n",
      "Pass@25 =  1.0\r\n",
      "Easy Pass@25 =  1.0\r\n",
      "Medium Pass@25 =  1.0\r\n",
      "Hard Pass@25 =  1.0\r\n",
      "Pass@50 =  1.0\r\n",
      "Easy Pass@50 =  1.0\r\n",
      "Medium Pass@50 =  1.0\r\n",
      "Hard Pass@50 =  1.0\r\n",
      "Pass@100 =  1.0\r\n",
      "Easy Pass@100 =  1.0\r\n",
      "Medium Pass@100 =  1.0\r\n",
      "Hard Pass@100 =  1.0\r\n",
      "Pass@150 =  1.0\r\n",
      "Easy Pass@150 =  1.0\r\n",
      "Medium Pass@150 =  1.0\r\n",
      "Hard Pass@150 =  1.0\r\n",
      "Pass@200 =  1.0\r\n",
      "Easy Pass@200 =  1.0\r\n",
      "Medium Pass@200 =  1.0\r\n",
      "Hard Pass@200 =  1.0\r\n",
      "Pass@1: 0.156\r\n",
      "Easy Pass@1: 0.30985915492957744\r\n",
      "Medium Pass@1: 0.10833333333333332\r\n",
      "Hard Pass@1: 0.0022222222222222222\r\n"
     ]
    }
   ],
   "source": [
    "!python -m lcb_runner.evaluation.compute_scores --eval_all_file output/Qwen2.5-3B/Scenario.codegeneration_5_0.2_eval_all.json"
   ]
  },
  {
   "cell_type": "markdown",
   "metadata": {
    "id": "-tf41eM5J6vv"
   },
   "source": [
    "# Evaluation Qwen2.5 3B 50 Step"
   ]
  },
  {
   "cell_type": "code",
   "execution_count": 17,
   "metadata": {
    "id": "drjgzGwASHjJ"
   },
   "outputs": [
    {
     "name": "stdout",
     "output_type": "stream",
     "text": [
      "Loaded 400 problems\n",
      "INFO 05-25 10:26:33 [__init__.py:239] Automatically detected platform cuda.\n",
      "WARNING 05-25 10:26:56 [config.py:2614] Casting torch.float16 to torch.bfloat16.\n",
      "INFO 05-25 10:29:21 [config.py:585] This model supports multiple tasks: {'score', 'embed', 'reward', 'classify', 'generate'}. Defaulting to 'generate'.\n",
      "INFO 05-25 10:29:21 [config.py:1697] Chunked prefill is enabled with max_num_batched_tokens=8192.\n",
      "WARNING 05-25 10:29:21 [cuda.py:95] To see benefits of async output processing, enable CUDA graph. Since, enforce-eager is enabled, async output processor cannot be used\n",
      "INFO 05-25 10:29:24 [core.py:54] Initializing a V1 LLM engine (v0.8.2) with config: model='MarioCap/Qwen2.5-3B-OCR-50S', speculative_config=None, tokenizer='MarioCap/Qwen2.5-3B-OCR-50S', skip_tokenizer_init=False, tokenizer_mode=auto, revision=None, override_neuron_config=None, tokenizer_revision=None, trust_remote_code=False, dtype=torch.bfloat16, max_seq_len=32768, download_dir=None, load_format=LoadFormat.AUTO, tensor_parallel_size=1, pipeline_parallel_size=1, disable_custom_all_reduce=True, quantization=None, enforce_eager=True, kv_cache_dtype=auto,  device_config=cuda, decoding_config=DecodingConfig(guided_decoding_backend='xgrammar', reasoning_backend=None), observability_config=ObservabilityConfig(show_hidden_metrics=False, otlp_traces_endpoint=None, collect_model_forward_time=False, collect_model_execute_time=False), seed=None, served_model_name=MarioCap/Qwen2.5-3B-OCR-50S, num_scheduler_steps=1, multi_step_stream_outputs=True, enable_prefix_caching=False, chunked_prefill_enabled=True, use_async_output_proc=False, disable_mm_preprocessor_cache=False, mm_processor_kwargs=None, pooler_config=None, compilation_config={\"splitting_ops\":[],\"compile_sizes\":[],\"cudagraph_capture_sizes\":[],\"max_capture_size\":0}\n",
      "WARNING 05-25 10:29:36 [utils.py:2321] Methods determine_num_available_blocks,device_config,get_cache_block_size_bytes,initialize_cache not implemented in <vllm.v1.worker.gpu_worker.Worker object at 0x7f6e6e4e1950>\n",
      "INFO 05-25 10:29:37 [parallel_state.py:954] rank 0 in world size 1 is assigned as DP rank 0, PP rank 0, TP rank 0\n",
      "INFO 05-25 10:29:37 [cuda.py:220] Using Flash Attention backend on V1 engine.\n",
      "INFO 05-25 10:29:37 [gpu_model_runner.py:1174] Starting to load model MarioCap/Qwen2.5-3B-OCR-50S...\n",
      "WARNING 05-25 10:29:39 [topk_topp_sampler.py:63] FlashInfer is not available. Falling back to the PyTorch-native implementation of top-p & top-k sampling. For the best performance, please install FlashInfer.\n",
      "INFO 05-25 10:29:39 [weight_utils.py:265] Using model weights format ['*.safetensors']\n",
      "Loading safetensors checkpoint shards:   0% Completed | 0/2 [00:00<?, ?it/s]\n",
      "Loading safetensors checkpoint shards:  50% Completed | 1/2 [00:03<00:03,  3.15s/it]\n",
      "Loading safetensors checkpoint shards: 100% Completed | 2/2 [00:15<00:00,  8.85s/it]\n",
      "Loading safetensors checkpoint shards: 100% Completed | 2/2 [00:15<00:00,  8.00s/it]\n",
      "\n",
      "INFO 05-25 10:29:56 [loader.py:447] Loading weights took 16.06 seconds\n",
      "INFO 05-25 10:29:56 [gpu_model_runner.py:1186] Model loading took 5.7916 GB and 18.617431 seconds\n",
      "INFO 05-25 10:29:58 [kv_cache_utils.py:566] GPU KV cache size: 687,568 tokens\n",
      "INFO 05-25 10:29:58 [kv_cache_utils.py:569] Maximum concurrency for 32,768 tokens per request: 20.98x\n",
      "INFO 05-25 10:29:58 [core.py:151] init engine (profile, create kv cache, warmup model) took 2.17 seconds\n",
      "Processed prompts: 100%|█| 2000/2000 [07:41<00:00,  4.33it/s, est. speed input: \n",
      "Evaluating 2000...\n",
      " 22%|████████▋                               | 436/2000 [01:18<06:06,  4.27it/s]timeout occured: alarm went off\n",
      " 42%|████████████████▋                       | 834/2000 [02:30<03:50,  5.07it/s]timeout occured: alarm went off\n",
      "timeout occured: alarm went off\n",
      " 42%|████████████████▋                       | 836/2000 [02:31<05:42,  3.40it/s]timeout occured: alarm went off\n",
      "100%|███████████████████████████████████████| 2000/2000 [06:57<00:00,  4.79it/s]\n",
      "0.195\n"
     ]
    }
   ],
   "source": [
    "!python -m lcb_runner.runner.main --model MarioCap/Qwen2.5-3B-OCR-50S --scenario codegeneration --evaluate --release_version release_v1 --n 5"
   ]
  },
  {
   "cell_type": "code",
   "execution_count": 19,
   "metadata": {
    "id": "Bj7EIY9HDUxt"
   },
   "outputs": [
    {
     "name": "stdout",
     "output_type": "stream",
     "text": [
      "400\r\n",
      "Pass@1 =  0.195\r\n",
      "Easy Pass@1 =  0.4492957746478873\r\n",
      "Medium Pass@1 =  0.08333333333333333\r\n",
      "Hard Pass@1 =  0.002222222222222222\r\n",
      "Pass@5 =  0.2325\r\n",
      "Easy Pass@5 =  0.5140845070422535\r\n",
      "Medium Pass@5 =  0.1130952380952381\r\n",
      "Hard Pass@5 =  0.011111111111111112\r\n",
      "Pass@10 =  1.0\r\n",
      "Easy Pass@10 =  1.0\r\n",
      "Medium Pass@10 =  1.0\r\n",
      "Hard Pass@10 =  1.0\r\n",
      "Pass@25 =  1.0\r\n",
      "Easy Pass@25 =  1.0\r\n",
      "Medium Pass@25 =  1.0\r\n",
      "Hard Pass@25 =  1.0\r\n",
      "Pass@50 =  1.0\r\n",
      "Easy Pass@50 =  1.0\r\n",
      "Medium Pass@50 =  1.0\r\n",
      "Hard Pass@50 =  1.0\r\n",
      "Pass@100 =  1.0\r\n",
      "Easy Pass@100 =  1.0\r\n",
      "Medium Pass@100 =  1.0\r\n",
      "Hard Pass@100 =  1.0\r\n",
      "Pass@150 =  1.0\r\n",
      "Easy Pass@150 =  1.0\r\n",
      "Medium Pass@150 =  1.0\r\n",
      "Hard Pass@150 =  1.0\r\n",
      "Pass@200 =  1.0\r\n",
      "Easy Pass@200 =  1.0\r\n",
      "Medium Pass@200 =  1.0\r\n",
      "Hard Pass@200 =  1.0\r\n",
      "Pass@1: 0.195\r\n",
      "Easy Pass@1: 0.44929577464788734\r\n",
      "Medium Pass@1: 0.08333333333333333\r\n",
      "Hard Pass@1: 0.0022222222222222222\r\n"
     ]
    }
   ],
   "source": [
    "!python -m lcb_runner.evaluation.compute_scores --eval_all_file output/Qwen2.5-3B-OCR-50S/Scenario.codegeneration_5_0.2_eval_all.json"
   ]
  },
  {
   "cell_type": "markdown",
   "metadata": {
    "id": "OJhpr5rMKAUY"
   },
   "source": [
    "# Evaluation Qwen2.5 3B 100 Step"
   ]
  },
  {
   "cell_type": "code",
   "execution_count": 9,
   "metadata": {
    "id": "4u8B17d8JQId"
   },
   "outputs": [
    {
     "name": "stdout",
     "output_type": "stream",
     "text": [
      "Loaded 400 problems\n",
      "INFO 05-25 09:31:17 [__init__.py:239] Automatically detected platform cuda.\n",
      "config.json: 100%|█████████████████████████████| 706/706 [00:00<00:00, 7.81MB/s]\n",
      "WARNING 05-25 09:31:55 [config.py:2614] Casting torch.float16 to torch.bfloat16.\n",
      "INFO 05-25 09:35:31 [config.py:585] This model supports multiple tasks: {'embed', 'score', 'generate', 'reward', 'classify'}. Defaulting to 'generate'.\n",
      "INFO 05-25 09:35:31 [config.py:1697] Chunked prefill is enabled with max_num_batched_tokens=8192.\n",
      "WARNING 05-25 09:35:31 [cuda.py:95] To see benefits of async output processing, enable CUDA graph. Since, enforce-eager is enabled, async output processor cannot be used\n",
      "tokenizer_config.json: 100%|███████████████| 7.26k/7.26k [00:00<00:00, 79.3MB/s]\n",
      "vocab.json: 100%|██████████████████████████| 2.78M/2.78M [00:00<00:00, 6.21MB/s]\n",
      "merges.txt: 100%|██████████████████████████| 1.67M/1.67M [00:00<00:00, 7.78MB/s]\n",
      "tokenizer.json: 100%|██████████████████████| 11.4M/11.4M [00:00<00:00, 50.9MB/s]\n",
      "added_tokens.json: 100%|███████████████████████| 605/605 [00:00<00:00, 4.30MB/s]\n",
      "special_tokens_map.json: 100%|█████████████████| 616/616 [00:00<00:00, 7.62MB/s]\n",
      "generation_config.json: 100%|██████████████████| 117/117 [00:00<00:00, 1.49MB/s]\n",
      "INFO 05-25 09:35:38 [core.py:54] Initializing a V1 LLM engine (v0.8.2) with config: model='MarioCap/Qwen2.5-3B-OCR-100S', speculative_config=None, tokenizer='MarioCap/Qwen2.5-3B-OCR-100S', skip_tokenizer_init=False, tokenizer_mode=auto, revision=None, override_neuron_config=None, tokenizer_revision=None, trust_remote_code=False, dtype=torch.bfloat16, max_seq_len=32768, download_dir=None, load_format=LoadFormat.AUTO, tensor_parallel_size=1, pipeline_parallel_size=1, disable_custom_all_reduce=True, quantization=None, enforce_eager=True, kv_cache_dtype=auto,  device_config=cuda, decoding_config=DecodingConfig(guided_decoding_backend='xgrammar', reasoning_backend=None), observability_config=ObservabilityConfig(show_hidden_metrics=False, otlp_traces_endpoint=None, collect_model_forward_time=False, collect_model_execute_time=False), seed=None, served_model_name=MarioCap/Qwen2.5-3B-OCR-100S, num_scheduler_steps=1, multi_step_stream_outputs=True, enable_prefix_caching=False, chunked_prefill_enabled=True, use_async_output_proc=False, disable_mm_preprocessor_cache=False, mm_processor_kwargs=None, pooler_config=None, compilation_config={\"splitting_ops\":[],\"compile_sizes\":[],\"cudagraph_capture_sizes\":[],\"max_capture_size\":0}\n",
      "WARNING 05-25 09:35:49 [utils.py:2321] Methods determine_num_available_blocks,device_config,get_cache_block_size_bytes,initialize_cache not implemented in <vllm.v1.worker.gpu_worker.Worker object at 0x7efe8d2e18d0>\n",
      "INFO 05-25 09:35:50 [parallel_state.py:954] rank 0 in world size 1 is assigned as DP rank 0, PP rank 0, TP rank 0\n",
      "INFO 05-25 09:35:50 [cuda.py:220] Using Flash Attention backend on V1 engine.\n",
      "INFO 05-25 09:35:50 [gpu_model_runner.py:1174] Starting to load model MarioCap/Qwen2.5-3B-OCR-100S...\n",
      "WARNING 05-25 09:35:52 [topk_topp_sampler.py:63] FlashInfer is not available. Falling back to the PyTorch-native implementation of top-p & top-k sampling. For the best performance, please install FlashInfer.\n",
      "INFO 05-25 09:35:53 [weight_utils.py:265] Using model weights format ['*.safetensors']\n",
      "model-00001-of-00002.safetensors: 100%|████▉| 4.96G/4.96G [00:18<00:00, 271MB/s]\n",
      "model-00002-of-00002.safetensors: 100%|████▉| 1.21G/1.21G [00:03<00:00, 337MB/s]\n",
      "INFO 05-25 09:36:16 [weight_utils.py:281] Time spent downloading weights for MarioCap/Qwen2.5-3B-OCR-100S: 23.090052 seconds\n",
      "model.safetensors.index.json: 100%|████████| 35.6k/35.6k [00:00<00:00, 4.10MB/s]\n",
      "Loading safetensors checkpoint shards:   0% Completed | 0/2 [00:00<?, ?it/s]\n",
      "Loading safetensors checkpoint shards:  50% Completed | 1/2 [00:01<00:01,  1.25s/it]\n",
      "Loading safetensors checkpoint shards: 100% Completed | 2/2 [00:06<00:00,  3.45s/it]\n",
      "Loading safetensors checkpoint shards: 100% Completed | 2/2 [00:06<00:00,  3.12s/it]\n",
      "\n",
      "INFO 05-25 09:36:22 [loader.py:447] Loading weights took 6.32 seconds\n",
      "INFO 05-25 09:36:23 [gpu_model_runner.py:1186] Model loading took 5.7916 GB and 31.946348 seconds\n",
      "INFO 05-25 09:36:24 [kv_cache_utils.py:566] GPU KV cache size: 687,568 tokens\n",
      "INFO 05-25 09:36:24 [kv_cache_utils.py:569] Maximum concurrency for 32,768 tokens per request: 20.98x\n",
      "INFO 05-25 09:36:24 [core.py:151] init engine (profile, create kv cache, warmup model) took 1.60 seconds\n",
      "Processed prompts: 100%|█| 2000/2000 [05:25<00:00,  6.14it/s, est. speed input: \n",
      "Evaluating 2000...\n",
      "  4%|█▌                                       | 75/2000 [00:16<08:28,  3.78it/s]timeout occured: alarm went off\n",
      "  4%|█▊                                       | 89/2000 [00:21<18:07,  1.76it/s]timeout occured: alarm went off\n",
      "timeout occured: alarm went off\n",
      "  8%|███                                     | 156/2000 [00:33<06:35,  4.66it/s]timeout occured: alarm went off\n",
      " 10%|████▏                                   | 208/2000 [00:46<09:13,  3.24it/s]timeout occured: alarm went off\n",
      "timeout occured: alarm went off\n",
      " 11%|████▏                                   | 212/2000 [00:47<08:28,  3.51it/s]timeout occured: alarm went off\n",
      " 11%|████▎                                   | 214/2000 [00:48<08:21,  3.56it/s]timeout occured: alarm went off\n",
      " 12%|████▉                                   | 248/2000 [00:55<05:24,  5.40it/s]timeout occured: alarm went off\n",
      " 12%|████▉                                   | 249/2000 [00:56<10:18,  2.83it/s]timeout occured: alarm went off\n",
      "timeout occured: alarm went off\n",
      " 16%|██████▏                                 | 311/2000 [01:08<04:39,  6.04it/s]timeout occured: alarm went off\n",
      "timeout occured: alarm went off\n",
      " 17%|██████▋                                 | 332/2000 [01:12<04:11,  6.63it/s]timeout occured: alarm went off\n",
      " 17%|██████▉                                 | 346/2000 [01:16<06:21,  4.34it/s]timeout occured: alarm went off\n",
      " 21%|████████▍                               | 419/2000 [01:34<11:11,  2.35it/s]timeout occured: alarm went off\n",
      " 22%|████████▉                               | 449/2000 [01:46<11:33,  2.23it/s]timeout occured: alarm went off\n",
      "timeout occured: alarm went off\n",
      "timeout occured: alarm went off\n",
      "timeout occured: alarm went off\n",
      " 23%|█████████                               | 451/2000 [01:47<15:22,  1.68it/s]timeout occured: alarm went off\n",
      " 23%|█████████▎                              | 464/2000 [01:50<04:46,  5.35it/s]timeout occured: alarm went off\n",
      " 23%|█████████▎                              | 467/2000 [01:51<04:32,  5.62it/s]timeout occured: alarm went off\n",
      " 32%|████████████▉                           | 645/2000 [02:27<03:48,  5.93it/s]timeout occured: alarm went off\n",
      " 33%|█████████████                           | 655/2000 [02:30<03:04,  7.30it/s]timeout occured: alarm went off\n",
      " 37%|██████████████▉                         | 745/2000 [02:50<04:23,  4.76it/s]timeout occured: alarm went off\n",
      " 40%|████████████████                        | 803/2000 [03:04<12:40,  1.57it/s]timeout occured: alarm went off\n",
      "timeout occured: alarm went off\n",
      " 40%|████████████████                        | 804/2000 [03:04<12:10,  1.64it/s]timeout occured: alarm went off\n",
      " 41%|████████████████▏                       | 812/2000 [03:07<06:02,  3.28it/s]timeout occured: alarm went off\n",
      "timeout occured: alarm went off\n",
      "timeout occured: alarm went off\n",
      " 41%|████████████████▎                       | 814/2000 [03:08<08:58,  2.20it/s]timeout occured: alarm went off\n",
      " 42%|████████████████▋                       | 832/2000 [03:12<05:57,  3.27it/s]timeout occured: alarm went off\n",
      " 42%|████████████████▋                       | 833/2000 [03:13<06:33,  2.97it/s]timeout occured: alarm went off\n",
      "timeout occured: alarm went off\n",
      " 44%|█████████████████▍                      | 873/2000 [03:22<06:12,  3.03it/s]timeout occured: alarm went off\n",
      "timeout occured: alarm went off\n",
      " 44%|█████████████████▍                      | 874/2000 [03:22<05:47,  3.24it/s]timeout occured: alarm went off\n",
      " 44%|█████████████████▌                      | 877/2000 [03:22<03:25,  5.46it/s]timeout occured: alarm went off\n",
      " 46%|██████████████████▎                     | 918/2000 [03:31<03:58,  4.54it/s]timeout occured: alarm went off\n",
      " 46%|██████████████████▍                     | 921/2000 [03:31<02:43,  6.61it/s]timeout occured: alarm went off\n",
      " 48%|███████████████████▏                    | 958/2000 [03:39<04:13,  4.12it/s]timeout occured: alarm went off\n",
      " 48%|███████████████████▏                    | 961/2000 [03:40<03:40,  4.72it/s]timeout occured: alarm went off\n",
      "100%|███████████████████████████████████████| 2000/2000 [08:22<00:00,  3.98it/s]\n",
      "0.1995\n"
     ]
    }
   ],
   "source": [
    "!python -m lcb_runner.runner.main --model MarioCap/Qwen2.5-3B-OCR-100S --scenario codegeneration --evaluate --release_version release_v1 --n 5"
   ]
  },
  {
   "cell_type": "code",
   "execution_count": 10,
   "metadata": {
    "id": "42oipHRsJR8Y"
   },
   "outputs": [
    {
     "name": "stdout",
     "output_type": "stream",
     "text": [
      "400\n",
      "Pass@1 =  0.1995\n",
      "Easy Pass@1 =  0.4098591549295775\n",
      "Medium Pass@1 =  0.07619047619047618\n",
      "Hard Pass@1 =  0.0\n",
      "Pass@5 =  0.28\n",
      "Easy Pass@5 =  0.6056338028169014\n",
      "Medium Pass@5 =  0.15476190476190477\n",
      "Hard Pass@5 =  0.0\n",
      "Pass@10 =  1.0\n",
      "Easy Pass@10 =  1.0\n",
      "Medium Pass@10 =  1.0\n",
      "Hard Pass@10 =  1.0\n",
      "Pass@25 =  1.0\n",
      "Easy Pass@25 =  1.0\n",
      "Medium Pass@25 =  1.0\n",
      "Hard Pass@25 =  1.0\n",
      "Pass@50 =  1.0\n",
      "Easy Pass@50 =  1.0\n",
      "Medium Pass@50 =  1.0\n",
      "Hard Pass@50 =  1.0\n",
      "Pass@100 =  1.0\n",
      "Easy Pass@100 =  1.0\n",
      "Medium Pass@100 =  1.0\n",
      "Hard Pass@100 =  1.0\n",
      "Pass@150 =  1.0\n",
      "Easy Pass@150 =  1.0\n",
      "Medium Pass@150 =  1.0\n",
      "Hard Pass@150 =  1.0\n",
      "Pass@200 =  1.0\n",
      "Easy Pass@200 =  1.0\n",
      "Medium Pass@200 =  1.0\n",
      "Hard Pass@200 =  1.0\n",
      "Pass@1: 0.17749999999999994\n",
      "Easy Pass@1: 0.4098591549295775\n",
      "Medium Pass@1: 0.07619047619047617\n",
      "Hard Pass@1: 0.0\n"
     ]
    }
   ],
   "source": [
    "!python -m lcb_runner.evaluation.compute_scores --eval_all_file output/Qwen2.5-3B-OCR-100S/Scenario.codegeneration_5_0.2_eval_all.json"
   ]
  },
  {
   "cell_type": "code",
   "execution_count": null,
   "metadata": {},
   "outputs": [],
   "source": []
  }
 ],
 "metadata": {
  "accelerator": "GPU",
  "colab": {
   "gpuType": "T4",
   "provenance": []
  },
  "kernelspec": {
   "display_name": "Python 3 (ipykernel)",
   "language": "python",
   "name": "python3"
  },
  "language_info": {
   "codemirror_mode": {
    "name": "ipython",
    "version": 3
   },
   "file_extension": ".py",
   "mimetype": "text/x-python",
   "name": "python",
   "nbconvert_exporter": "python",
   "pygments_lexer": "ipython3",
   "version": "3.11.4"
  }
 },
 "nbformat": 4,
 "nbformat_minor": 1
}
